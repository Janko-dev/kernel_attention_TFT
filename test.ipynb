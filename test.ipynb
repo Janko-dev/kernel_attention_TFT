{
 "cells": [
  {
   "metadata": {
    "ExecuteTime": {
     "end_time": "2024-07-30T12:03:47.671824Z",
     "start_time": "2024-07-30T12:03:47.667907Z"
    }
   },
   "cell_type": "code",
   "source": [
    "import torch\n",
    "\n",
    "torch.randn(10, 2)[:-1].shape"
   ],
   "id": "8d46cbe060751c24",
   "outputs": [
    {
     "data": {
      "text/plain": [
       "torch.Size([9, 2])"
      ]
     },
     "execution_count": 7,
     "metadata": {},
     "output_type": "execute_result"
    }
   ],
   "execution_count": 7
  },
  {
   "cell_type": "code",
   "id": "initial_id",
   "metadata": {
    "collapsed": true,
    "ExecuteTime": {
     "end_time": "2024-07-29T10:00:37.482743Z",
     "start_time": "2024-07-29T10:00:35.825962Z"
    }
   },
   "source": "from modeling import InterpretableMultiHeadAttention, InterpretableMultiHeadAttention2",
   "outputs": [
    {
     "name": "stderr",
     "output_type": "stream",
     "text": [
      "C:\\Users\\janba\\python-dev\\kernel_attention_TFT\\.venv\\Lib\\site-packages\\torch\\_subclasses\\functional_tensor.py:258: UserWarning: Failed to initialize NumPy: No module named 'numpy' (Triggered internally at C:\\actions-runner\\_work\\pytorch\\pytorch\\builder\\windows\\pytorch\\torch\\csrc\\utils\\tensor_numpy.cpp:84.)\n",
      "  cpu = _conversion_method_template(device=torch.device(\"cpu\"))\n"
     ]
    }
   ],
   "execution_count": 1
  },
  {
   "metadata": {
    "ExecuteTime": {
     "end_time": "2024-07-29T10:00:37.486648Z",
     "start_time": "2024-07-29T10:00:37.483748Z"
    }
   },
   "cell_type": "code",
   "source": [
    "class dotdict(dict):\n",
    "    \"\"\"dot.notation access to dictionary attributes\"\"\"\n",
    "    __getattr__ = dict.get\n",
    "    __setattr__ = dict.__setitem__\n",
    "    __delattr__ = dict.__delitem__"
   ],
   "id": "4eaea97c9a6f3243",
   "outputs": [],
   "execution_count": 2
  },
  {
   "metadata": {
    "ExecuteTime": {
     "end_time": "2024-07-29T10:06:23.579961Z",
     "start_time": "2024-07-29T10:06:23.576596Z"
    }
   },
   "cell_type": "code",
   "source": [
    "config = {\n",
    "    \"n_head\": 4,\n",
    "    \"hidden_size\": 128,\n",
    "    \"dropout\": 0.1,\n",
    "    \"example_length\": 192,\n",
    "    \"attn_dropout\": 0.0,\n",
    "    \"batch_size\": 1\n",
    "}\n",
    "config = dotdict(config)"
   ],
   "id": "693d9702aab507f0",
   "outputs": [],
   "execution_count": 47
  },
  {
   "metadata": {
    "ExecuteTime": {
     "end_time": "2024-07-29T10:06:24.299705Z",
     "start_time": "2024-07-29T10:06:24.296557Z"
    }
   },
   "cell_type": "code",
   "source": [
    "import torch\n",
    "\n",
    "x = torch.randn(config.batch_size, config.example_length, config.hidden_size)"
   ],
   "id": "900d92ab980c6492",
   "outputs": [],
   "execution_count": 48
  },
  {
   "metadata": {
    "ExecuteTime": {
     "end_time": "2024-07-29T10:15:57.207462Z",
     "start_time": "2024-07-29T10:15:57.191648Z"
    }
   },
   "cell_type": "code",
   "source": [
    "import attention as ATTN\n",
    "\n",
    "nH = config.n_head\n",
    "t = config.example_length\n",
    "nD = config.hidden_size // config.n_head\n",
    "\n",
    "qk = torch.randn(64, t, nH, nD)\n",
    "v = torch.randn(64, t, nD)\n",
    "\n",
    "qk.shape, v.shape"
   ],
   "id": "332c41b648b62c23",
   "outputs": [
    {
     "data": {
      "text/plain": [
       "(torch.Size([64, 192, 4, 32]), torch.Size([64, 192, 32]))"
      ]
     },
     "execution_count": 75,
     "metadata": {},
     "output_type": "execute_result"
    }
   ],
   "execution_count": 75
  },
  {
   "metadata": {
    "ExecuteTime": {
     "end_time": "2024-07-29T10:18:24.097081Z",
     "start_time": "2024-07-29T10:18:23.009071Z"
    }
   },
   "cell_type": "code",
   "source": [
    "y, attn_w = ATTN.DotProductAttention()(qk.transpose(1, 2), qk.transpose(1, 2), v.unsqueeze(1))\n",
    "y, attn_w = ATTN.ChangePointKernelAttention()(qk.transpose(1, 2), qk.transpose(1, 2), v.unsqueeze(1))\n",
    "\n",
    "y.shape, attn_w.shape"
   ],
   "id": "db9d6cdfd8ac52cb",
   "outputs": [
    {
     "data": {
      "text/plain": [
       "(torch.Size([64, 4, 192, 32]), torch.Size([64, 4, 192, 192]))"
      ]
     },
     "execution_count": 86,
     "metadata": {},
     "output_type": "execute_result"
    }
   ],
   "execution_count": 86
  },
  {
   "metadata": {
    "ExecuteTime": {
     "end_time": "2024-07-29T10:06:26.018301Z",
     "start_time": "2024-07-29T10:06:26.013317Z"
    }
   },
   "cell_type": "code",
   "source": [
    "imha = InterpretableMultiHeadAttention(config, ATTN.DotProductAttention(0.0))\n",
    "imha2 = InterpretableMultiHeadAttention2(config)\n",
    "\n",
    "imha.eval()\n",
    "imha2.eval()\n",
    "\n",
    "for name, p in imha.named_parameters():\n",
    "    torch.nn.init.ones_(p)\n",
    "\n",
    "for name, p in imha2.named_parameters():\n",
    "    torch.nn.init.ones_(p)"
   ],
   "id": "9abda6bcadf3f04",
   "outputs": [],
   "execution_count": 51
  },
  {
   "metadata": {
    "ExecuteTime": {
     "end_time": "2024-07-29T10:11:41.765245Z",
     "start_time": "2024-07-29T10:11:41.759620Z"
    }
   },
   "cell_type": "code",
   "source": [
    "with torch.no_grad():\n",
    "    y, attn_w = imha(x)\n",
    "y.shape, attn_w.shape"
   ],
   "id": "bbe6f56d99161811",
   "outputs": [
    {
     "data": {
      "text/plain": [
       "(torch.Size([1, 192, 128]), torch.Size([1, 4, 192, 192]))"
      ]
     },
     "execution_count": 74,
     "metadata": {},
     "output_type": "execute_result"
    }
   ],
   "execution_count": 74
  },
  {
   "metadata": {
    "ExecuteTime": {
     "end_time": "2024-07-29T10:11:41.172387Z",
     "start_time": "2024-07-29T10:11:41.167069Z"
    }
   },
   "cell_type": "code",
   "source": [
    "with torch.no_grad():\n",
    "    y2, attn_w2 = imha2(x)\n",
    "y2.shape, attn_w2.shape"
   ],
   "id": "f7d7308906d44e88",
   "outputs": [
    {
     "data": {
      "text/plain": [
       "(torch.Size([1, 192, 128]), torch.Size([1, 4, 192, 192]))"
      ]
     },
     "execution_count": 73,
     "metadata": {},
     "output_type": "execute_result"
    }
   ],
   "execution_count": 73
  }
 ],
 "metadata": {
  "kernelspec": {
   "display_name": "Python 3",
   "language": "python",
   "name": "python3"
  },
  "language_info": {
   "codemirror_mode": {
    "name": "ipython",
    "version": 2
   },
   "file_extension": ".py",
   "mimetype": "text/x-python",
   "name": "python",
   "nbconvert_exporter": "python",
   "pygments_lexer": "ipython2",
   "version": "2.7.6"
  }
 },
 "nbformat": 4,
 "nbformat_minor": 5
}
