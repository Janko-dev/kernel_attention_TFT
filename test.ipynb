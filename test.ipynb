{
 "cells": [
  {
   "metadata": {
    "ExecuteTime": {
     "end_time": "2024-08-14T08:11:34.964755Z",
     "start_time": "2024-08-14T08:11:28.386020Z"
    }
   },
   "cell_type": "code",
   "source": [
    "import torch\n",
    "from basic_transformer import QuantileTransformer, QuantileConvDecoderOnlyTransformer\n",
    "import attention as ATTN\n",
    "\n",
    "model = QuantileTransformer(\n",
    "    d_in=2,\n",
    "    n_quantiles=3,\n",
    "    emb_size=20,\n",
    "    n_heads=4,\n",
    "    n_hidden=32,\n",
    "    ffn_n_hidden=20,\n",
    "    num_layers=1,\n",
    "    _attention=ATTN.DotProductAttention(),\n",
    "    norm_first=True\n",
    ")\n",
    "\n",
    "x = torch.randn(32, 192, 1)\n",
    "y = torch.randn(32, 192, 1)\n",
    "\n",
    "model(x, y).shape"
   ],
   "id": "8351302606b9f27",
   "outputs": [
    {
     "data": {
      "text/plain": [
       "torch.Size([32, 192, 3])"
      ]
     },
     "execution_count": 1,
     "metadata": {},
     "output_type": "execute_result"
    }
   ],
   "execution_count": 1
  },
  {
   "metadata": {
    "ExecuteTime": {
     "end_time": "2024-08-14T08:12:42.372580Z",
     "start_time": "2024-08-14T08:12:42.368980Z"
    }
   },
   "cell_type": "code",
   "source": "model.transformer_blocks[0].mha.attn_weights.shape",
   "id": "c9cb297ff0b62f84",
   "outputs": [
    {
     "data": {
      "text/plain": [
       "torch.Size([32, 4, 192, 192])"
      ]
     },
     "execution_count": 10,
     "metadata": {},
     "output_type": "execute_result"
    }
   ],
   "execution_count": 10
  },
  {
   "metadata": {
    "ExecuteTime": {
     "end_time": "2024-08-14T08:42:29.963041Z",
     "start_time": "2024-08-14T08:42:29.854603Z"
    }
   },
   "cell_type": "code",
   "source": [
    "import numpy as np\n",
    "import matplotlib.pyplot as plt\n",
    "from synthetic_datasets import SineSyntheticDataset\n",
    "\n",
    "dataset = SineSyntheticDataset(\n",
    "    len_timeseries=5000,\n",
    "    seq_len=50,\n",
    "    shift=10,\n",
    "    alpha=0.1\n",
    ")\n",
    "\n",
    "src_x, src_y, tgt_x, tgt_y = dataset[0]\n",
    "\n",
    "\n",
    "plt.plot(src_x.numpy(), src_y.numpy(), 'b')\n",
    "plt.plot(tgt_x.numpy(), tgt_y.numpy(), 'r')\n",
    "\n",
    "src_x.shape, src_y.shape, tgt_x.shape, tgt_y.shape"
   ],
   "id": "1b214d1985731984",
   "outputs": [
    {
     "data": {
      "text/plain": [
       "(torch.Size([50, 1]),\n",
       " torch.Size([50, 1]),\n",
       " torch.Size([10, 1]),\n",
       " torch.Size([10, 1]))"
      ]
     },
     "execution_count": 14,
     "metadata": {},
     "output_type": "execute_result"
    },
    {
     "data": {
      "text/plain": [
       "<Figure size 640x480 with 1 Axes>"
      ],
      "image/png": "[encoded data removed]"
     },
     "metadata": {},
     "output_type": "display_data"
    }
   ],
   "execution_count": 14
  },
  {
   "metadata": {
    "ExecuteTime": {
     "end_time": "2024-08-14T08:45:49.820904Z",
     "start_time": "2024-08-14T08:45:49.799364Z"
    }
   },
   "cell_type": "code",
   "source": [
    "from torch.utils.data import DataLoader\n",
    "\n",
    "train_set, test_set, val_set = torch.utils.data.random_split(dataset, (0.8, 0.1, 0.1))\n",
    "\n",
    "train_dl = DataLoader(train_set, batch_size=32, shuffle=True, drop_last=True)\n",
    "test_dl = DataLoader(test_set, batch_size=64, shuffle=False, drop_last=True)\n",
    "val_dl = DataLoader(val_set, batch_size=64, shuffle=True, drop_last=True)\n",
    "\n",
    "len(train_set), len(val_set), len(test_set), len(train_dl), len(val_dl), len(test_dl)"
   ],
   "id": "db0b745abf9bc31c",
   "outputs": [
    {
     "data": {
      "text/plain": [
       "(3952, 494, 494, 123, 7, 7)"
      ]
     },
     "execution_count": 15,
     "metadata": {},
     "output_type": "execute_result"
    }
   ],
   "execution_count": 15
  },
  {
   "metadata": {},
   "cell_type": "code",
   "outputs": [],
   "execution_count": null,
   "source": [
    "lr = 1e-3\n",
    "EPOCHS = 100"
   ],
   "id": "4779e1ce024e5c63"
  },
  {
   "metadata": {
    "ExecuteTime": {
     "end_time": "2024-08-14T08:57:29.444855Z",
     "start_time": "2024-08-14T08:57:29.345071Z"
    }
   },
   "cell_type": "code",
   "source": [
    "def train_step(model, criterion, train_dataloader, optimizer, mask):\n",
    "    model.train()\n",
    "    train_loss = 0\n",
    "    n = 0\n",
    "    mask = mask.to(model.device)\n",
    "    for sample in train_dataloader:\n",
    "        src_X, src_fX, tgt_X, tgt_fX = (v.to(model.device) for v in sample)\n",
    "        \n",
    "        out = model(src_X, src_fX, mask)\n",
    "        loss = criterion(out, tgt_fX)\n",
    "\n",
    "        optimizer.zero_grad()\n",
    "        loss.backward()\n",
    "        optimizer.step()\n",
    "        \n",
    "        train_loss += loss.item() * src_X.shape[0]\n",
    "        n += src_X.shape[0]\n",
    "\n",
    "    return train_loss / n\n",
    "\n",
    "from criterions import QuantileLoss\n",
    "criterion = QuantileLoss({'quantiles': [0.1, 0.5, 0.9]})\n",
    "optimizer = torch.optim.Adam(model.parameters(), lr=lr)\n",
    "train_step(model, criterion, train_dl, optimizer, dataset.mask)"
   ],
   "id": "5a0471316f512d0",
   "outputs": [
    {
     "ename": "AttributeError",
     "evalue": "'dict' object has no attribute 'quantiles'",
     "output_type": "error",
     "traceback": [
      "\u001B[1;31m---------------------------------------------------------------------------\u001B[0m",
      "\u001B[1;31mAttributeError\u001B[0m                            Traceback (most recent call last)",
      "Cell \u001B[1;32mIn[16], line 22\u001B[0m\n\u001B[0;32m     19\u001B[0m     \u001B[38;5;28;01mreturn\u001B[39;00m train_loss \u001B[38;5;241m/\u001B[39m n\n\u001B[0;32m     21\u001B[0m \u001B[38;5;28;01mfrom\u001B[39;00m \u001B[38;5;21;01mcriterions\u001B[39;00m \u001B[38;5;28;01mimport\u001B[39;00m QuantileLoss\n\u001B[1;32m---> 22\u001B[0m criterion \u001B[38;5;241m=\u001B[39m \u001B[43mQuantileLoss\u001B[49m\u001B[43m(\u001B[49m\u001B[43m{\u001B[49m\u001B[38;5;124;43m'\u001B[39;49m\u001B[38;5;124;43mquantiles\u001B[39;49m\u001B[38;5;124;43m'\u001B[39;49m\u001B[43m:\u001B[49m\u001B[43m \u001B[49m\u001B[43m[\u001B[49m\u001B[38;5;241;43m0.1\u001B[39;49m\u001B[43m,\u001B[49m\u001B[43m \u001B[49m\u001B[38;5;241;43m0.5\u001B[39;49m\u001B[43m,\u001B[49m\u001B[43m \u001B[49m\u001B[38;5;241;43m0.9\u001B[39;49m\u001B[43m]\u001B[49m\u001B[43m}\u001B[49m\u001B[43m)\u001B[49m\n\u001B[0;32m     23\u001B[0m optimizer \u001B[38;5;241m=\u001B[39m torch\u001B[38;5;241m.\u001B[39moptim\u001B[38;5;241m.\u001B[39mAdam(model\u001B[38;5;241m.\u001B[39mparameters(), lr\u001B[38;5;241m=\u001B[39mlr)\n\u001B[0;32m     24\u001B[0m train_step(model, criterion, train_dl, optimizer, dataset\u001B[38;5;241m.\u001B[39mmask)\n",
      "File \u001B[1;32m~\\python-dev\\kernel_attention_TFT\\criterions.py:23\u001B[0m, in \u001B[0;36mQuantileLoss.__init__\u001B[1;34m(self, config)\u001B[0m\n\u001B[0;32m     21\u001B[0m \u001B[38;5;28;01mdef\u001B[39;00m \u001B[38;5;21m__init__\u001B[39m(\u001B[38;5;28mself\u001B[39m, config):\n\u001B[0;32m     22\u001B[0m     \u001B[38;5;28msuper\u001B[39m()\u001B[38;5;241m.\u001B[39m\u001B[38;5;21m__init__\u001B[39m()\n\u001B[1;32m---> 23\u001B[0m     \u001B[38;5;28mself\u001B[39m\u001B[38;5;241m.\u001B[39mregister_buffer(\u001B[38;5;124m'\u001B[39m\u001B[38;5;124mq\u001B[39m\u001B[38;5;124m'\u001B[39m, torch\u001B[38;5;241m.\u001B[39mtensor(\u001B[43mconfig\u001B[49m\u001B[38;5;241;43m.\u001B[39;49m\u001B[43mquantiles\u001B[49m))\n",
      "\u001B[1;31mAttributeError\u001B[0m: 'dict' object has no attribute 'quantiles'"
     ]
    }
   ],
   "execution_count": 16
  },
  {
   "metadata": {},
   "cell_type": "code",
   "outputs": [],
   "execution_count": null,
   "source": [
    "from criterions import QuantileLoss\n",
    "\n",
    "train_history = []\n",
    "val_history = []\n",
    "\n",
    "criterion = QuantileLoss({'quantiles': [0.1, 0.5, 0.9]})\n",
    "optimizer = torch.optim.Adam(model.parameters(), lr=lr)\n",
    "scheduler = torch.optim.lr_scheduler.ReduceLROnPlateau(optimizer)\n",
    "\n",
    "for epoch in range(EPOCHS):\n",
    "\n",
    "    train_loss, train_mape_loss = train_step_dec_only(model, criterion, train_dl, optimizer, dataset.mask, shift, device)\n",
    "    train_history.append([train_loss, train_mape_loss])\n",
    "\n",
    "    val_loss, val_mape_loss, _ = val_step_dec_only(model, criterion, val_dl, ps, dataset.mask, shift, device)\n",
    "    val_history.append([val_loss, val_mape_loss])\n",
    "    \n",
    "    scheduler.step()\n",
    "    \n",
    "    if epoch % 10 == 0:\n",
    "        print(f\"{epoch=}\\t{train_loss=:.4f}\\t{val_loss=:.4f}\\t{train_mape_loss=:.4f}\\t{val_mape_loss=:.4f}\")\n",
    "        if ES.best_model:\n",
    "            path = f\"../../models/{name}/traffic_{name}_{shift}preds.pth\"\n",
    "            torch.save(ES.best_model.state_dict(), path)\n",
    "    \n",
    "    ES(val_loss, model)\n",
    "    # if ES.early_stop: break\n",
    "\n",
    "history[name] = (train_history, val_history)\n",
    "\n",
    "best_model = ES.best_model\n",
    "best_test_loss, best_test_mape_loss, _ = val_step_dec_only(best_model, criterion, test_dl, ps, dataset.mask, shift, device)\n",
    "print(f\"Test losses: {best_test_loss=:.4f}\\t{best_test_mape_loss=:.4f}\")\n",
    "\n",
    "path = f\"../../models/{name}/traffic_{name}_{shift}preds.pth\"\n",
    "torch.save(best_model.state_dict(), path)"
   ],
   "id": "8d4fa37940a2f3b"
  }
 ],
 "metadata": {
  "kernelspec": {
   "display_name": "Python 3",
   "language": "python",
   "name": "python3"
  },
  "language_info": {
   "codemirror_mode": {
    "name": "ipython",
    "version": 2
   },
   "file_extension": ".py",
   "mimetype": "text/x-python",
   "name": "python",
   "nbconvert_exporter": "python",
   "pygments_lexer": "ipython2",
   "version": "2.7.6"
  }
 },
 "nbformat": 4,
 "nbformat_minor": 5
}
